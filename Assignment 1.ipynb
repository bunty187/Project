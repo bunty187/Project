{
 "cells": [
  {
   "cell_type": "markdown",
   "id": "027d7df1",
   "metadata": {},
   "source": [
    "## Import Libraries"
   ]
  },
  {
   "cell_type": "code",
   "execution_count": 1,
   "id": "5d9fd518",
   "metadata": {},
   "outputs": [],
   "source": [
    "#importing libraries\n",
    "import numpy as np\n",
    "import pandas as pd\n",
    "import matplotlib.pyplot as plt\n",
    "import warnings\n",
    "warnings.filterwarnings('ignore')\n",
    "import seaborn as sns"
   ]
  },
  {
   "cell_type": "code",
   "execution_count": 2,
   "id": "e2b9bf4e",
   "metadata": {},
   "outputs": [
    {
     "data": {
      "text/html": [
       "<div>\n",
       "<style scoped>\n",
       "    .dataframe tbody tr th:only-of-type {\n",
       "        vertical-align: middle;\n",
       "    }\n",
       "\n",
       "    .dataframe tbody tr th {\n",
       "        vertical-align: top;\n",
       "    }\n",
       "\n",
       "    .dataframe thead th {\n",
       "        text-align: right;\n",
       "    }\n",
       "</style>\n",
       "<table border=\"1\" class=\"dataframe\">\n",
       "  <thead>\n",
       "    <tr style=\"text-align: right;\">\n",
       "      <th></th>\n",
       "      <th>Transaction date</th>\n",
       "      <th>House Age</th>\n",
       "      <th>Distance from nearest Metro station (km)</th>\n",
       "      <th>Number of convenience stores</th>\n",
       "      <th>latitude</th>\n",
       "      <th>longitude</th>\n",
       "      <th>Number of bedrooms</th>\n",
       "      <th>House size (sqft)</th>\n",
       "      <th>House price of unit area</th>\n",
       "    </tr>\n",
       "  </thead>\n",
       "  <tbody>\n",
       "    <tr>\n",
       "      <th>0</th>\n",
       "      <td>2012.916667</td>\n",
       "      <td>32.0</td>\n",
       "      <td>84.87882</td>\n",
       "      <td>10</td>\n",
       "      <td>24.98298</td>\n",
       "      <td>121.54024</td>\n",
       "      <td>1</td>\n",
       "      <td>575</td>\n",
       "      <td>37.9</td>\n",
       "    </tr>\n",
       "    <tr>\n",
       "      <th>1</th>\n",
       "      <td>2012.916667</td>\n",
       "      <td>19.5</td>\n",
       "      <td>306.59470</td>\n",
       "      <td>9</td>\n",
       "      <td>24.98034</td>\n",
       "      <td>121.53951</td>\n",
       "      <td>2</td>\n",
       "      <td>1240</td>\n",
       "      <td>42.2</td>\n",
       "    </tr>\n",
       "    <tr>\n",
       "      <th>2</th>\n",
       "      <td>2013.583333</td>\n",
       "      <td>13.3</td>\n",
       "      <td>561.98450</td>\n",
       "      <td>5</td>\n",
       "      <td>24.98746</td>\n",
       "      <td>121.54391</td>\n",
       "      <td>3</td>\n",
       "      <td>1060</td>\n",
       "      <td>47.3</td>\n",
       "    </tr>\n",
       "    <tr>\n",
       "      <th>3</th>\n",
       "      <td>2013.500000</td>\n",
       "      <td>13.3</td>\n",
       "      <td>561.98450</td>\n",
       "      <td>5</td>\n",
       "      <td>24.98746</td>\n",
       "      <td>121.54391</td>\n",
       "      <td>2</td>\n",
       "      <td>875</td>\n",
       "      <td>54.8</td>\n",
       "    </tr>\n",
       "    <tr>\n",
       "      <th>4</th>\n",
       "      <td>2012.833333</td>\n",
       "      <td>5.0</td>\n",
       "      <td>390.56840</td>\n",
       "      <td>5</td>\n",
       "      <td>24.97937</td>\n",
       "      <td>121.54245</td>\n",
       "      <td>1</td>\n",
       "      <td>491</td>\n",
       "      <td>43.1</td>\n",
       "    </tr>\n",
       "  </tbody>\n",
       "</table>\n",
       "</div>"
      ],
      "text/plain": [
       "   Transaction date  House Age  Distance from nearest Metro station (km)  \\\n",
       "0       2012.916667       32.0                                  84.87882   \n",
       "1       2012.916667       19.5                                 306.59470   \n",
       "2       2013.583333       13.3                                 561.98450   \n",
       "3       2013.500000       13.3                                 561.98450   \n",
       "4       2012.833333        5.0                                 390.56840   \n",
       "\n",
       "   Number of convenience stores  latitude  longitude  Number of bedrooms  \\\n",
       "0                            10  24.98298  121.54024                   1   \n",
       "1                             9  24.98034  121.53951                   2   \n",
       "2                             5  24.98746  121.54391                   3   \n",
       "3                             5  24.98746  121.54391                   2   \n",
       "4                             5  24.97937  121.54245                   1   \n",
       "\n",
       "   House size (sqft)  House price of unit area  \n",
       "0                575                      37.9  \n",
       "1               1240                      42.2  \n",
       "2               1060                      47.3  \n",
       "3                875                      54.8  \n",
       "4                491                      43.1  "
      ]
     },
     "execution_count": 2,
     "metadata": {},
     "output_type": "execute_result"
    }
   ],
   "source": [
    "#importing data\n",
    "data = pd.read_excel('DS - Assignment Part 1 data set.xlsx')\n",
    "data.head()"
   ]
  },
  {
   "cell_type": "code",
   "execution_count": 3,
   "id": "db846cb8",
   "metadata": {},
   "outputs": [
    {
     "name": "stdout",
     "output_type": "stream",
     "text": [
      "<class 'pandas.core.frame.DataFrame'>\n",
      "RangeIndex: 414 entries, 0 to 413\n",
      "Data columns (total 9 columns):\n",
      " #   Column                                    Non-Null Count  Dtype  \n",
      "---  ------                                    --------------  -----  \n",
      " 0   Transaction date                          414 non-null    float64\n",
      " 1   House Age                                 414 non-null    float64\n",
      " 2   Distance from nearest Metro station (km)  414 non-null    float64\n",
      " 3   Number of convenience stores              414 non-null    int64  \n",
      " 4   latitude                                  414 non-null    float64\n",
      " 5   longitude                                 414 non-null    float64\n",
      " 6   Number of bedrooms                        414 non-null    int64  \n",
      " 7   House size (sqft)                         414 non-null    int64  \n",
      " 8   House price of unit area                  414 non-null    float64\n",
      "dtypes: float64(6), int64(3)\n",
      "memory usage: 29.2 KB\n"
     ]
    }
   ],
   "source": [
    "data.info()"
   ]
  },
  {
   "cell_type": "code",
   "execution_count": 4,
   "id": "097787eb",
   "metadata": {},
   "outputs": [
    {
     "data": {
      "text/plain": [
       "count    414.000000\n",
       "mean      37.980193\n",
       "std       13.606488\n",
       "min        7.600000\n",
       "25%       27.700000\n",
       "50%       38.450000\n",
       "75%       46.600000\n",
       "max      117.500000\n",
       "Name: House price of unit area, dtype: float64"
      ]
     },
     "execution_count": 4,
     "metadata": {},
     "output_type": "execute_result"
    }
   ],
   "source": [
    "data['House price of unit area'].describe()"
   ]
  },
  {
   "cell_type": "code",
   "execution_count": 5,
   "id": "fb161ac7",
   "metadata": {},
   "outputs": [
    {
     "data": {
      "text/plain": [
       "<AxesSubplot:ylabel='Frequency'>"
      ]
     },
     "execution_count": 5,
     "metadata": {},
     "output_type": "execute_result"
    },
    {
     "data": {
      "image/png": "[encoded data removed]",
      "text/plain": [
       "<Figure size 432x288 with 1 Axes>"
      ]
     },
     "metadata": {
      "needs_background": "light"
     },
     "output_type": "display_data"
    }
   ],
   "source": [
    "data['House price of unit area'].plot.hist()"
   ]
  },
  {
   "cell_type": "markdown",
   "id": "1b407298",
   "metadata": {},
   "source": [
    "# EDA"
   ]
  },
  {
   "cell_type": "markdown",
   "id": "01bf74e4",
   "metadata": {},
   "source": [
    "* **In House price of unit area** has some **outliers** are present and is skewed to the left. so it is necessary to remove these outliers from the dataset."
   ]
  },
  {
   "cell_type": "markdown",
   "id": "16776e93",
   "metadata": {},
   "source": [
    "## Remove Outliers"
   ]
  },
  {
   "cell_type": "code",
   "execution_count": 6,
   "id": "41a0c64d",
   "metadata": {},
   "outputs": [
    {
     "data": {
      "text/plain": [
       "(27.7, 46.6)"
      ]
     },
     "execution_count": 6,
     "metadata": {},
     "output_type": "execute_result"
    }
   ],
   "source": [
    "# checking quantiles\n",
    "q1 = data['House price of unit area'].quantile(0.25)\n",
    "q3 = data['House price of unit area'].quantile(0.75)\n",
    "q1, q3"
   ]
  },
  {
   "cell_type": "code",
   "execution_count": 7,
   "id": "77d25ca4",
   "metadata": {},
   "outputs": [
    {
     "data": {
      "text/plain": [
       "18.900000000000002"
      ]
     },
     "execution_count": 7,
     "metadata": {},
     "output_type": "execute_result"
    }
   ],
   "source": [
    "#calculating iqr\n",
    "iqr = q3 - q1\n",
    "iqr"
   ]
  },
  {
   "cell_type": "code",
   "execution_count": 8,
   "id": "7daf2e38",
   "metadata": {},
   "outputs": [
    {
     "data": {
      "text/plain": [
       "(74.95, -0.6500000000000021)"
      ]
     },
     "execution_count": 8,
     "metadata": {},
     "output_type": "execute_result"
    }
   ],
   "source": [
    "upper_limit = q3 + 1.5*iqr\n",
    "lower_limit = q1 - 1.5*iqr\n",
    "upper_limit, lower_limit"
   ]
  },
  {
   "cell_type": "code",
   "execution_count": 9,
   "id": "94c7de51",
   "metadata": {},
   "outputs": [],
   "source": [
    "# imputing outliers\n",
    "def limit_imputer(value):\n",
    "  if value > upper_limit:\n",
    "    return upper_limit\n",
    "  if value < lower_limit:\n",
    "    return lower_limit\n",
    "  else:\n",
    "    return value"
   ]
  },
  {
   "cell_type": "code",
   "execution_count": 10,
   "id": "035a72a6",
   "metadata": {},
   "outputs": [],
   "source": [
    "data['House price of unit area'] = data['House price of unit area'].apply(limit_imputer)"
   ]
  },
  {
   "cell_type": "code",
   "execution_count": 11,
   "id": "161374d4",
   "metadata": {},
   "outputs": [
    {
     "data": {
      "text/plain": [
       "count    414.000000\n",
       "mean      37.861957\n",
       "std       13.112035\n",
       "min        7.600000\n",
       "25%       27.700000\n",
       "50%       38.450000\n",
       "75%       46.600000\n",
       "max       74.950000\n",
       "Name: House price of unit area, dtype: float64"
      ]
     },
     "execution_count": 11,
     "metadata": {},
     "output_type": "execute_result"
    }
   ],
   "source": [
    "data['House price of unit area'].describe()"
   ]
  },
  {
   "cell_type": "code",
   "execution_count": 12,
   "id": "c5c6e765",
   "metadata": {},
   "outputs": [
    {
     "data": {
      "text/plain": [
       "<AxesSubplot:ylabel='Frequency'>"
      ]
     },
     "execution_count": 12,
     "metadata": {},
     "output_type": "execute_result"
    },
    {
     "data": {
      "image/png": "[encoded data removed]",
      "text/plain": [
       "<Figure size 432x288 with 1 Axes>"
      ]
     },
     "metadata": {
      "needs_background": "light"
     },
     "output_type": "display_data"
    }
   ],
   "source": [
    "data['House price of unit area'].plot.hist()"
   ]
  },
  {
   "cell_type": "code",
   "execution_count": 13,
   "id": "a1c39d91",
   "metadata": {},
   "outputs": [
    {
     "data": {
      "text/plain": [
       "Transaction date                            0\n",
       "House Age                                   0\n",
       "Distance from nearest Metro station (km)    0\n",
       "Number of convenience stores                0\n",
       "latitude                                    0\n",
       "longitude                                   0\n",
       "Number of bedrooms                          0\n",
       "House size (sqft)                           0\n",
       "House price of unit area                    0\n",
       "dtype: int64"
      ]
     },
     "execution_count": 13,
     "metadata": {},
     "output_type": "execute_result"
    }
   ],
   "source": [
    "#checking missing values\n",
    "data.isnull().sum()"
   ]
  },
  {
   "cell_type": "markdown",
   "id": "aae309e6",
   "metadata": {},
   "source": [
    "## datetime data type"
   ]
  },
  {
   "cell_type": "code",
   "execution_count": 14,
   "id": "e1dc2b84",
   "metadata": {},
   "outputs": [],
   "source": [
    "# Convert to \"Transaction date\" to in proper datetime format.\n",
    "data['Transaction date']=pd.to_datetime(data['Transaction date'],unit='D',origin='1990-01-01')"
   ]
  },
  {
   "cell_type": "code",
   "execution_count": 15,
   "id": "00751504",
   "metadata": {},
   "outputs": [],
   "source": [
    "#manipulating datetime variable\n",
    "data['Purchase Year'] = pd.DatetimeIndex(data['Transaction date']).year"
   ]
  },
  {
   "cell_type": "code",
   "execution_count": 16,
   "id": "458822e8",
   "metadata": {},
   "outputs": [
    {
     "data": {
      "text/html": [
       "<div>\n",
       "<style scoped>\n",
       "    .dataframe tbody tr th:only-of-type {\n",
       "        vertical-align: middle;\n",
       "    }\n",
       "\n",
       "    .dataframe tbody tr th {\n",
       "        vertical-align: top;\n",
       "    }\n",
       "\n",
       "    .dataframe thead th {\n",
       "        text-align: right;\n",
       "    }\n",
       "</style>\n",
       "<table border=\"1\" class=\"dataframe\">\n",
       "  <thead>\n",
       "    <tr style=\"text-align: right;\">\n",
       "      <th></th>\n",
       "      <th>Transaction date</th>\n",
       "      <th>House Age</th>\n",
       "      <th>Distance from nearest Metro station (km)</th>\n",
       "      <th>Number of convenience stores</th>\n",
       "      <th>latitude</th>\n",
       "      <th>longitude</th>\n",
       "      <th>Number of bedrooms</th>\n",
       "      <th>House size (sqft)</th>\n",
       "      <th>House price of unit area</th>\n",
       "      <th>Purchase Year</th>\n",
       "    </tr>\n",
       "  </thead>\n",
       "  <tbody>\n",
       "    <tr>\n",
       "      <th>0</th>\n",
       "      <td>1995-07-06 22:00:00.002879872</td>\n",
       "      <td>32.0</td>\n",
       "      <td>84.87882</td>\n",
       "      <td>10</td>\n",
       "      <td>24.98298</td>\n",
       "      <td>121.54024</td>\n",
       "      <td>1</td>\n",
       "      <td>575</td>\n",
       "      <td>37.9</td>\n",
       "      <td>1995</td>\n",
       "    </tr>\n",
       "    <tr>\n",
       "      <th>1</th>\n",
       "      <td>1995-07-06 22:00:00.002879872</td>\n",
       "      <td>19.5</td>\n",
       "      <td>306.59470</td>\n",
       "      <td>9</td>\n",
       "      <td>24.98034</td>\n",
       "      <td>121.53951</td>\n",
       "      <td>2</td>\n",
       "      <td>1240</td>\n",
       "      <td>42.2</td>\n",
       "      <td>1995</td>\n",
       "    </tr>\n",
       "    <tr>\n",
       "      <th>2</th>\n",
       "      <td>1995-07-07 13:59:59.997120128</td>\n",
       "      <td>13.3</td>\n",
       "      <td>561.98450</td>\n",
       "      <td>5</td>\n",
       "      <td>24.98746</td>\n",
       "      <td>121.54391</td>\n",
       "      <td>3</td>\n",
       "      <td>1060</td>\n",
       "      <td>47.3</td>\n",
       "      <td>1995</td>\n",
       "    </tr>\n",
       "    <tr>\n",
       "      <th>3</th>\n",
       "      <td>1995-07-07 12:00:00.000000000</td>\n",
       "      <td>13.3</td>\n",
       "      <td>561.98450</td>\n",
       "      <td>5</td>\n",
       "      <td>24.98746</td>\n",
       "      <td>121.54391</td>\n",
       "      <td>2</td>\n",
       "      <td>875</td>\n",
       "      <td>54.8</td>\n",
       "      <td>1995</td>\n",
       "    </tr>\n",
       "    <tr>\n",
       "      <th>4</th>\n",
       "      <td>1995-07-06 19:59:59.997120128</td>\n",
       "      <td>5.0</td>\n",
       "      <td>390.56840</td>\n",
       "      <td>5</td>\n",
       "      <td>24.97937</td>\n",
       "      <td>121.54245</td>\n",
       "      <td>1</td>\n",
       "      <td>491</td>\n",
       "      <td>43.1</td>\n",
       "      <td>1995</td>\n",
       "    </tr>\n",
       "  </tbody>\n",
       "</table>\n",
       "</div>"
      ],
      "text/plain": [
       "               Transaction date  House Age  \\\n",
       "0 1995-07-06 22:00:00.002879872       32.0   \n",
       "1 1995-07-06 22:00:00.002879872       19.5   \n",
       "2 1995-07-07 13:59:59.997120128       13.3   \n",
       "3 1995-07-07 12:00:00.000000000       13.3   \n",
       "4 1995-07-06 19:59:59.997120128        5.0   \n",
       "\n",
       "   Distance from nearest Metro station (km)  Number of convenience stores  \\\n",
       "0                                  84.87882                            10   \n",
       "1                                 306.59470                             9   \n",
       "2                                 561.98450                             5   \n",
       "3                                 561.98450                             5   \n",
       "4                                 390.56840                             5   \n",
       "\n",
       "   latitude  longitude  Number of bedrooms  House size (sqft)  \\\n",
       "0  24.98298  121.54024                   1                575   \n",
       "1  24.98034  121.53951                   2               1240   \n",
       "2  24.98746  121.54391                   3               1060   \n",
       "3  24.98746  121.54391                   2                875   \n",
       "4  24.97937  121.54245                   1                491   \n",
       "\n",
       "   House price of unit area  Purchase Year  \n",
       "0                      37.9           1995  \n",
       "1                      42.2           1995  \n",
       "2                      47.3           1995  \n",
       "3                      54.8           1995  \n",
       "4                      43.1           1995  "
      ]
     },
     "execution_count": 16,
     "metadata": {},
     "output_type": "execute_result"
    }
   ],
   "source": [
    "data.head()"
   ]
  },
  {
   "cell_type": "markdown",
   "id": "08c3b753",
   "metadata": {},
   "source": [
    "## Variable Identification and typecasting"
   ]
  },
  {
   "cell_type": "code",
   "execution_count": 17,
   "id": "05fc0eaa",
   "metadata": {},
   "outputs": [
    {
     "name": "stdout",
     "output_type": "stream",
     "text": [
      "<class 'pandas.core.frame.DataFrame'>\n",
      "RangeIndex: 414 entries, 0 to 413\n",
      "Data columns (total 10 columns):\n",
      " #   Column                                    Non-Null Count  Dtype         \n",
      "---  ------                                    --------------  -----         \n",
      " 0   Transaction date                          414 non-null    datetime64[ns]\n",
      " 1   House Age                                 414 non-null    float64       \n",
      " 2   Distance from nearest Metro station (km)  414 non-null    float64       \n",
      " 3   Number of convenience stores              414 non-null    int64         \n",
      " 4   latitude                                  414 non-null    float64       \n",
      " 5   longitude                                 414 non-null    float64       \n",
      " 6   Number of bedrooms                        414 non-null    int64         \n",
      " 7   House size (sqft)                         414 non-null    int64         \n",
      " 8   House price of unit area                  414 non-null    float64       \n",
      " 9   Purchase Year                             414 non-null    int64         \n",
      "dtypes: datetime64[ns](1), float64(5), int64(4)\n",
      "memory usage: 32.5 KB\n"
     ]
    }
   ],
   "source": [
    "data.info()"
   ]
  },
  {
   "cell_type": "markdown",
   "id": "cbf2a314",
   "metadata": {},
   "source": [
    "## Integer datatypes "
   ]
  },
  {
   "cell_type": "code",
   "execution_count": 18,
   "id": "3b3fcfbe",
   "metadata": {},
   "outputs": [
    {
     "data": {
      "text/plain": [
       "Number of convenience stores    int64\n",
       "Number of bedrooms              int64\n",
       "House size (sqft)               int64\n",
       "Purchase Year                   int64\n",
       "dtype: object"
      ]
     },
     "execution_count": 18,
     "metadata": {},
     "output_type": "execute_result"
    }
   ],
   "source": [
    "# Identifying variables with integer datatype\n",
    "data.dtypes[data.dtypes == 'int64']"
   ]
  },
  {
   "cell_type": "markdown",
   "id": "e664d947",
   "metadata": {},
   "source": [
    " * **Number of convenience stores**  represents different Number of stores, therefore it should be convereted to **category**.\n",
    " * **Number of bedrooms** represents Number of bedrooms in the House, therefore it should be converted to **category**"
   ]
  },
  {
   "cell_type": "code",
   "execution_count": 19,
   "id": "7869975e",
   "metadata": {},
   "outputs": [],
   "source": [
    "data['Number of convenience stores']=data['Number of convenience stores'].astype('category')\n",
    "\n",
    "data['Number of bedrooms']=data['Number of bedrooms'].astype('category')"
   ]
  },
  {
   "cell_type": "markdown",
   "id": "8adfd98e",
   "metadata": {},
   "source": [
    "## Float datatypes "
   ]
  },
  {
   "cell_type": "code",
   "execution_count": 20,
   "id": "2c924e50",
   "metadata": {},
   "outputs": [
    {
     "data": {
      "text/plain": [
       "House Age                                   float64\n",
       "Distance from nearest Metro station (km)    float64\n",
       "latitude                                    float64\n",
       "longitude                                   float64\n",
       "House price of unit area                    float64\n",
       "dtype: object"
      ]
     },
     "execution_count": 20,
     "metadata": {},
     "output_type": "execute_result"
    }
   ],
   "source": [
    "data.dtypes[data.dtypes == 'float64']"
   ]
  },
  {
   "cell_type": "code",
   "execution_count": 21,
   "id": "9736353a",
   "metadata": {},
   "outputs": [
    {
     "name": "stdout",
     "output_type": "stream",
     "text": [
      "<class 'pandas.core.frame.DataFrame'>\n",
      "RangeIndex: 414 entries, 0 to 413\n",
      "Data columns (total 10 columns):\n",
      " #   Column                                    Non-Null Count  Dtype         \n",
      "---  ------                                    --------------  -----         \n",
      " 0   Transaction date                          414 non-null    datetime64[ns]\n",
      " 1   House Age                                 414 non-null    float64       \n",
      " 2   Distance from nearest Metro station (km)  414 non-null    float64       \n",
      " 3   Number of convenience stores              414 non-null    category      \n",
      " 4   latitude                                  414 non-null    float64       \n",
      " 5   longitude                                 414 non-null    float64       \n",
      " 6   Number of bedrooms                        414 non-null    category      \n",
      " 7   House size (sqft)                         414 non-null    int64         \n",
      " 8   House price of unit area                  414 non-null    float64       \n",
      " 9   Purchase Year                             414 non-null    int64         \n",
      "dtypes: category(2), datetime64[ns](1), float64(5), int64(2)\n",
      "memory usage: 27.3 KB\n"
     ]
    }
   ],
   "source": [
    "data.info()"
   ]
  },
  {
   "cell_type": "markdown",
   "id": "8d806339",
   "metadata": {},
   "source": [
    "## Visualizing correlations "
   ]
  },
  {
   "cell_type": "code",
   "execution_count": 22,
   "id": "2e29c856",
   "metadata": {},
   "outputs": [
    {
     "data": {
      "image/png": "[encoded data removed]",
      "text/plain": [
       "<Figure size 864x576 with 2 Axes>"
      ]
     },
     "metadata": {
      "needs_background": "light"
     },
     "output_type": "display_data"
    }
   ],
   "source": [
    "plt.figure(figsize=(12,8))\n",
    "sns.heatmap(data.corr(),annot=True,cmap='coolwarm_r',fmt='.2f')\n",
    "plt.title(\"Visualizing Correlations\", size = 30)\n",
    "plt.show()"
   ]
  },
  {
   "cell_type": "markdown",
   "id": "1fe76cb9",
   "metadata": {},
   "source": [
    "## Categorical variable vs target variable"
   ]
  },
  {
   "cell_type": "code",
   "execution_count": 23,
   "id": "801097c6",
   "metadata": {},
   "outputs": [
    {
     "data": {
      "text/plain": [
       "<AxesSubplot:xlabel='Number of bedrooms'>"
      ]
     },
     "execution_count": 23,
     "metadata": {},
     "output_type": "execute_result"
    },
    {
     "data": {
      "image/png": "[encoded data removed]",
      "text/plain": [
       "<Figure size 432x288 with 1 Axes>"
      ]
     },
     "metadata": {
      "needs_background": "light"
     },
     "output_type": "display_data"
    }
   ],
   "source": [
    " data.groupby('Number of bedrooms')['House price of unit area'].mean().sort_values().plot(kind = 'bar',color=['C0','C1','C2','C3'])"
   ]
  },
  {
   "cell_type": "code",
   "execution_count": 24,
   "id": "45d99364",
   "metadata": {},
   "outputs": [
    {
     "data": {
      "text/plain": [
       "<AxesSubplot:xlabel='Number of convenience stores'>"
      ]
     },
     "execution_count": 24,
     "metadata": {},
     "output_type": "execute_result"
    },
    {
     "data": {
      "image/png": "[encoded data removed]",
      "text/plain": [
       "<Figure size 432x288 with 1 Axes>"
      ]
     },
     "metadata": {
      "needs_background": "light"
     },
     "output_type": "display_data"
    }
   ],
   "source": [
    " data.groupby('Number of convenience stores')['House price of unit area'].mean().sort_values().plot(kind = 'bar',color=['C0','C1','C2','C3','C4','C5'])"
   ]
  },
  {
   "cell_type": "code",
   "execution_count": 25,
   "id": "a5c34f26",
   "metadata": {},
   "outputs": [],
   "source": [
    "# These variable doesn't help in model prediction, therefore it drop from the dataset.\n",
    "# dropping redundant variables\n",
    "data.drop( columns = ['Transaction date','Purchase Year'], inplace = True)"
   ]
  },
  {
   "cell_type": "code",
   "execution_count": 26,
   "id": "02a21f87",
   "metadata": {},
   "outputs": [
    {
     "data": {
      "text/html": [
       "<div>\n",
       "<style scoped>\n",
       "    .dataframe tbody tr th:only-of-type {\n",
       "        vertical-align: middle;\n",
       "    }\n",
       "\n",
       "    .dataframe tbody tr th {\n",
       "        vertical-align: top;\n",
       "    }\n",
       "\n",
       "    .dataframe thead th {\n",
       "        text-align: right;\n",
       "    }\n",
       "</style>\n",
       "<table border=\"1\" class=\"dataframe\">\n",
       "  <thead>\n",
       "    <tr style=\"text-align: right;\">\n",
       "      <th></th>\n",
       "      <th>House Age</th>\n",
       "      <th>Distance from nearest Metro station (km)</th>\n",
       "      <th>Number of convenience stores</th>\n",
       "      <th>latitude</th>\n",
       "      <th>longitude</th>\n",
       "      <th>Number of bedrooms</th>\n",
       "      <th>House size (sqft)</th>\n",
       "      <th>House price of unit area</th>\n",
       "    </tr>\n",
       "  </thead>\n",
       "  <tbody>\n",
       "    <tr>\n",
       "      <th>0</th>\n",
       "      <td>32.0</td>\n",
       "      <td>84.87882</td>\n",
       "      <td>10</td>\n",
       "      <td>24.98298</td>\n",
       "      <td>121.54024</td>\n",
       "      <td>1</td>\n",
       "      <td>575</td>\n",
       "      <td>37.9</td>\n",
       "    </tr>\n",
       "    <tr>\n",
       "      <th>1</th>\n",
       "      <td>19.5</td>\n",
       "      <td>306.59470</td>\n",
       "      <td>9</td>\n",
       "      <td>24.98034</td>\n",
       "      <td>121.53951</td>\n",
       "      <td>2</td>\n",
       "      <td>1240</td>\n",
       "      <td>42.2</td>\n",
       "    </tr>\n",
       "    <tr>\n",
       "      <th>2</th>\n",
       "      <td>13.3</td>\n",
       "      <td>561.98450</td>\n",
       "      <td>5</td>\n",
       "      <td>24.98746</td>\n",
       "      <td>121.54391</td>\n",
       "      <td>3</td>\n",
       "      <td>1060</td>\n",
       "      <td>47.3</td>\n",
       "    </tr>\n",
       "    <tr>\n",
       "      <th>3</th>\n",
       "      <td>13.3</td>\n",
       "      <td>561.98450</td>\n",
       "      <td>5</td>\n",
       "      <td>24.98746</td>\n",
       "      <td>121.54391</td>\n",
       "      <td>2</td>\n",
       "      <td>875</td>\n",
       "      <td>54.8</td>\n",
       "    </tr>\n",
       "    <tr>\n",
       "      <th>4</th>\n",
       "      <td>5.0</td>\n",
       "      <td>390.56840</td>\n",
       "      <td>5</td>\n",
       "      <td>24.97937</td>\n",
       "      <td>121.54245</td>\n",
       "      <td>1</td>\n",
       "      <td>491</td>\n",
       "      <td>43.1</td>\n",
       "    </tr>\n",
       "  </tbody>\n",
       "</table>\n",
       "</div>"
      ],
      "text/plain": [
       "   House Age  Distance from nearest Metro station (km)  \\\n",
       "0       32.0                                  84.87882   \n",
       "1       19.5                                 306.59470   \n",
       "2       13.3                                 561.98450   \n",
       "3       13.3                                 561.98450   \n",
       "4        5.0                                 390.56840   \n",
       "\n",
       "  Number of convenience stores  latitude  longitude Number of bedrooms  \\\n",
       "0                           10  24.98298  121.54024                  1   \n",
       "1                            9  24.98034  121.53951                  2   \n",
       "2                            5  24.98746  121.54391                  3   \n",
       "3                            5  24.98746  121.54391                  2   \n",
       "4                            5  24.97937  121.54245                  1   \n",
       "\n",
       "   House size (sqft)  House price of unit area  \n",
       "0                575                      37.9  \n",
       "1               1240                      42.2  \n",
       "2               1060                      47.3  \n",
       "3                875                      54.8  \n",
       "4                491                      43.1  "
      ]
     },
     "execution_count": 26,
     "metadata": {},
     "output_type": "execute_result"
    }
   ],
   "source": [
    "data.head()"
   ]
  },
  {
   "cell_type": "markdown",
   "id": "10898e3b",
   "metadata": {},
   "source": [
    "## Segregating variables: Independent and Dependent Variables"
   ]
  },
  {
   "cell_type": "code",
   "execution_count": 27,
   "id": "27254bb7",
   "metadata": {},
   "outputs": [],
   "source": [
    "data.dropna(inplace=True)\n",
    "X = data.drop(columns=['House price of unit area'])\n",
    "Y = data['House price of unit area']"
   ]
  },
  {
   "cell_type": "code",
   "execution_count": 28,
   "id": "8f492fca",
   "metadata": {},
   "outputs": [
    {
     "name": "stdout",
     "output_type": "stream",
     "text": [
      "<class 'pandas.core.frame.DataFrame'>\n",
      "Int64Index: 414 entries, 0 to 413\n",
      "Data columns (total 8 columns):\n",
      " #   Column                                    Non-Null Count  Dtype   \n",
      "---  ------                                    --------------  -----   \n",
      " 0   House Age                                 414 non-null    float64 \n",
      " 1   Distance from nearest Metro station (km)  414 non-null    float64 \n",
      " 2   Number of convenience stores              414 non-null    category\n",
      " 3   latitude                                  414 non-null    float64 \n",
      " 4   longitude                                 414 non-null    float64 \n",
      " 5   Number of bedrooms                        414 non-null    category\n",
      " 6   House size (sqft)                         414 non-null    int64   \n",
      " 7   House price of unit area                  414 non-null    float64 \n",
      "dtypes: category(2), float64(5), int64(1)\n",
      "memory usage: 24.0 KB\n"
     ]
    }
   ],
   "source": [
    "data.info()"
   ]
  },
  {
   "cell_type": "code",
   "execution_count": 29,
   "id": "3e363db6",
   "metadata": {},
   "outputs": [
    {
     "data": {
      "text/plain": [
       "<AxesSubplot:ylabel='Frequency'>"
      ]
     },
     "execution_count": 29,
     "metadata": {},
     "output_type": "execute_result"
    },
    {
     "data": {
      "image/png": "[encoded data removed]",
      "text/plain": [
       "<Figure size 432x288 with 1 Axes>"
      ]
     },
     "metadata": {
      "needs_background": "light"
     },
     "output_type": "display_data"
    }
   ],
   "source": [
    "data['House size (sqft)'].plot.hist()"
   ]
  },
  {
   "cell_type": "code",
   "execution_count": 30,
   "id": "13b9a98a",
   "metadata": {},
   "outputs": [
    {
     "data": {
      "text/plain": [
       "<AxesSubplot:ylabel='Frequency'>"
      ]
     },
     "execution_count": 30,
     "metadata": {},
     "output_type": "execute_result"
    },
    {
     "data": {
      "image/png": "[encoded data removed]",
      "text/plain": [
       "<Figure size 432x288 with 1 Axes>"
      ]
     },
     "metadata": {
      "needs_background": "light"
     },
     "output_type": "display_data"
    }
   ],
   "source": [
    "data['Distance from nearest Metro station (km)'].plot.hist()"
   ]
  },
  {
   "cell_type": "markdown",
   "id": "9d2a2e84",
   "metadata": {},
   "source": [
    "# Scaling the dataset"
   ]
  },
  {
   "cell_type": "code",
   "execution_count": 31,
   "id": "a5fa14e2",
   "metadata": {},
   "outputs": [
    {
     "data": {
      "text/html": [
       "<div>\n",
       "<style scoped>\n",
       "    .dataframe tbody tr th:only-of-type {\n",
       "        vertical-align: middle;\n",
       "    }\n",
       "\n",
       "    .dataframe tbody tr th {\n",
       "        vertical-align: top;\n",
       "    }\n",
       "\n",
       "    .dataframe thead th {\n",
       "        text-align: right;\n",
       "    }\n",
       "</style>\n",
       "<table border=\"1\" class=\"dataframe\">\n",
       "  <thead>\n",
       "    <tr style=\"text-align: right;\">\n",
       "      <th></th>\n",
       "      <th>House Age</th>\n",
       "      <th>Distance from nearest Metro station (km)</th>\n",
       "      <th>Number of convenience stores</th>\n",
       "      <th>latitude</th>\n",
       "      <th>longitude</th>\n",
       "      <th>Number of bedrooms</th>\n",
       "      <th>House size (sqft)</th>\n",
       "    </tr>\n",
       "  </thead>\n",
       "  <tbody>\n",
       "    <tr>\n",
       "      <th>0</th>\n",
       "      <td>1.255628</td>\n",
       "      <td>-0.792495</td>\n",
       "      <td>2.007407</td>\n",
       "      <td>1.125430</td>\n",
       "      <td>0.448762</td>\n",
       "      <td>-1.207899</td>\n",
       "      <td>-1.022920</td>\n",
       "    </tr>\n",
       "    <tr>\n",
       "      <th>1</th>\n",
       "      <td>0.157086</td>\n",
       "      <td>-0.616612</td>\n",
       "      <td>1.667503</td>\n",
       "      <td>0.912444</td>\n",
       "      <td>0.401139</td>\n",
       "      <td>0.014766</td>\n",
       "      <td>0.885321</td>\n",
       "    </tr>\n",
       "    <tr>\n",
       "      <th>2</th>\n",
       "      <td>-0.387791</td>\n",
       "      <td>-0.414015</td>\n",
       "      <td>0.307885</td>\n",
       "      <td>1.486860</td>\n",
       "      <td>0.688183</td>\n",
       "      <td>1.237432</td>\n",
       "      <td>0.368804</td>\n",
       "    </tr>\n",
       "    <tr>\n",
       "      <th>3</th>\n",
       "      <td>-0.387791</td>\n",
       "      <td>-0.414015</td>\n",
       "      <td>0.307885</td>\n",
       "      <td>1.486860</td>\n",
       "      <td>0.688183</td>\n",
       "      <td>0.014766</td>\n",
       "      <td>-0.162059</td>\n",
       "    </tr>\n",
       "    <tr>\n",
       "      <th>4</th>\n",
       "      <td>-1.117223</td>\n",
       "      <td>-0.549997</td>\n",
       "      <td>0.307885</td>\n",
       "      <td>0.834188</td>\n",
       "      <td>0.592937</td>\n",
       "      <td>-1.207899</td>\n",
       "      <td>-1.263960</td>\n",
       "    </tr>\n",
       "  </tbody>\n",
       "</table>\n",
       "</div>"
      ],
      "text/plain": [
       "   House Age  Distance from nearest Metro station (km)  \\\n",
       "0   1.255628                                 -0.792495   \n",
       "1   0.157086                                 -0.616612   \n",
       "2  -0.387791                                 -0.414015   \n",
       "3  -0.387791                                 -0.414015   \n",
       "4  -1.117223                                 -0.549997   \n",
       "\n",
       "   Number of convenience stores  latitude  longitude  Number of bedrooms  \\\n",
       "0                      2.007407  1.125430   0.448762           -1.207899   \n",
       "1                      1.667503  0.912444   0.401139            0.014766   \n",
       "2                      0.307885  1.486860   0.688183            1.237432   \n",
       "3                      0.307885  1.486860   0.688183            0.014766   \n",
       "4                      0.307885  0.834188   0.592937           -1.207899   \n",
       "\n",
       "   House size (sqft)  \n",
       "0          -1.022920  \n",
       "1           0.885321  \n",
       "2           0.368804  \n",
       "3          -0.162059  \n",
       "4          -1.263960  "
      ]
     },
     "execution_count": 31,
     "metadata": {},
     "output_type": "execute_result"
    }
   ],
   "source": [
    "from sklearn.preprocessing import StandardScaler\n",
    "scaler = StandardScaler()\n",
    "Y = data['House price of unit area']\n",
    "X1 = scaler.fit_transform(X)\n",
    "X = pd.DataFrame(data = X1, columns = X.columns)\n",
    "X.head()"
   ]
  },
  {
   "cell_type": "markdown",
   "id": "2160478f",
   "metadata": {},
   "source": [
    "# Checking and Removing Multicollinearity"
   ]
  },
  {
   "cell_type": "code",
   "execution_count": 32,
   "id": "bd81ce40",
   "metadata": {},
   "outputs": [
    {
     "data": {
      "text/html": [
       "<div>\n",
       "<style scoped>\n",
       "    .dataframe tbody tr th:only-of-type {\n",
       "        vertical-align: middle;\n",
       "    }\n",
       "\n",
       "    .dataframe tbody tr th {\n",
       "        vertical-align: top;\n",
       "    }\n",
       "\n",
       "    .dataframe thead th {\n",
       "        text-align: right;\n",
       "    }\n",
       "</style>\n",
       "<table border=\"1\" class=\"dataframe\">\n",
       "  <thead>\n",
       "    <tr style=\"text-align: right;\">\n",
       "      <th></th>\n",
       "      <th>House Age</th>\n",
       "      <th>Distance from nearest Metro station (km)</th>\n",
       "      <th>Number of convenience stores</th>\n",
       "      <th>latitude</th>\n",
       "      <th>longitude</th>\n",
       "      <th>Number of bedrooms</th>\n",
       "      <th>House size (sqft)</th>\n",
       "    </tr>\n",
       "  </thead>\n",
       "  <tbody>\n",
       "    <tr>\n",
       "      <th>House Age</th>\n",
       "      <td>1.000000</td>\n",
       "      <td>0.025622</td>\n",
       "      <td>0.049593</td>\n",
       "      <td>0.054420</td>\n",
       "      <td>-0.048520</td>\n",
       "      <td>-0.008756</td>\n",
       "      <td>-0.060361</td>\n",
       "    </tr>\n",
       "    <tr>\n",
       "      <th>Distance from nearest Metro station (km)</th>\n",
       "      <td>0.025622</td>\n",
       "      <td>1.000000</td>\n",
       "      <td>-0.602519</td>\n",
       "      <td>-0.591067</td>\n",
       "      <td>-0.806317</td>\n",
       "      <td>-0.046856</td>\n",
       "      <td>0.001795</td>\n",
       "    </tr>\n",
       "    <tr>\n",
       "      <th>Number of convenience stores</th>\n",
       "      <td>0.049593</td>\n",
       "      <td>-0.602519</td>\n",
       "      <td>1.000000</td>\n",
       "      <td>0.444143</td>\n",
       "      <td>0.449099</td>\n",
       "      <td>0.043638</td>\n",
       "      <td>0.033286</td>\n",
       "    </tr>\n",
       "    <tr>\n",
       "      <th>latitude</th>\n",
       "      <td>0.054420</td>\n",
       "      <td>-0.591067</td>\n",
       "      <td>0.444143</td>\n",
       "      <td>1.000000</td>\n",
       "      <td>0.412924</td>\n",
       "      <td>0.043921</td>\n",
       "      <td>0.031696</td>\n",
       "    </tr>\n",
       "    <tr>\n",
       "      <th>longitude</th>\n",
       "      <td>-0.048520</td>\n",
       "      <td>-0.806317</td>\n",
       "      <td>0.449099</td>\n",
       "      <td>0.412924</td>\n",
       "      <td>1.000000</td>\n",
       "      <td>0.041680</td>\n",
       "      <td>0.009322</td>\n",
       "    </tr>\n",
       "    <tr>\n",
       "      <th>Number of bedrooms</th>\n",
       "      <td>-0.008756</td>\n",
       "      <td>-0.046856</td>\n",
       "      <td>0.043638</td>\n",
       "      <td>0.043921</td>\n",
       "      <td>0.041680</td>\n",
       "      <td>1.000000</td>\n",
       "      <td>0.752276</td>\n",
       "    </tr>\n",
       "    <tr>\n",
       "      <th>House size (sqft)</th>\n",
       "      <td>-0.060361</td>\n",
       "      <td>0.001795</td>\n",
       "      <td>0.033286</td>\n",
       "      <td>0.031696</td>\n",
       "      <td>0.009322</td>\n",
       "      <td>0.752276</td>\n",
       "      <td>1.000000</td>\n",
       "    </tr>\n",
       "  </tbody>\n",
       "</table>\n",
       "</div>"
      ],
      "text/plain": [
       "                                          House Age  \\\n",
       "House Age                                  1.000000   \n",
       "Distance from nearest Metro station (km)   0.025622   \n",
       "Number of convenience stores               0.049593   \n",
       "latitude                                   0.054420   \n",
       "longitude                                 -0.048520   \n",
       "Number of bedrooms                        -0.008756   \n",
       "House size (sqft)                         -0.060361   \n",
       "\n",
       "                                          Distance from nearest Metro station (km)  \\\n",
       "House Age                                                                 0.025622   \n",
       "Distance from nearest Metro station (km)                                  1.000000   \n",
       "Number of convenience stores                                             -0.602519   \n",
       "latitude                                                                 -0.591067   \n",
       "longitude                                                                -0.806317   \n",
       "Number of bedrooms                                                       -0.046856   \n",
       "House size (sqft)                                                         0.001795   \n",
       "\n",
       "                                          Number of convenience stores  \\\n",
       "House Age                                                     0.049593   \n",
       "Distance from nearest Metro station (km)                     -0.602519   \n",
       "Number of convenience stores                                  1.000000   \n",
       "latitude                                                      0.444143   \n",
       "longitude                                                     0.449099   \n",
       "Number of bedrooms                                            0.043638   \n",
       "House size (sqft)                                             0.033286   \n",
       "\n",
       "                                          latitude  longitude  \\\n",
       "House Age                                 0.054420  -0.048520   \n",
       "Distance from nearest Metro station (km) -0.591067  -0.806317   \n",
       "Number of convenience stores              0.444143   0.449099   \n",
       "latitude                                  1.000000   0.412924   \n",
       "longitude                                 0.412924   1.000000   \n",
       "Number of bedrooms                        0.043921   0.041680   \n",
       "House size (sqft)                         0.031696   0.009322   \n",
       "\n",
       "                                          Number of bedrooms  \\\n",
       "House Age                                          -0.008756   \n",
       "Distance from nearest Metro station (km)           -0.046856   \n",
       "Number of convenience stores                        0.043638   \n",
       "latitude                                            0.043921   \n",
       "longitude                                           0.041680   \n",
       "Number of bedrooms                                  1.000000   \n",
       "House size (sqft)                                   0.752276   \n",
       "\n",
       "                                          House size (sqft)  \n",
       "House Age                                         -0.060361  \n",
       "Distance from nearest Metro station (km)           0.001795  \n",
       "Number of convenience stores                       0.033286  \n",
       "latitude                                           0.031696  \n",
       "longitude                                          0.009322  \n",
       "Number of bedrooms                                 0.752276  \n",
       "House size (sqft)                                  1.000000  "
      ]
     },
     "execution_count": 32,
     "metadata": {},
     "output_type": "execute_result"
    }
   ],
   "source": [
    "X.corr()"
   ]
  },
  {
   "cell_type": "code",
   "execution_count": 33,
   "id": "6e9c002a",
   "metadata": {},
   "outputs": [
    {
     "data": {
      "text/plain": [
       "([['Number of bedrooms', 'House size (sqft)'],\n",
       "  ['House size (sqft)', 'Number of bedrooms']],\n",
       " 2)"
      ]
     },
     "execution_count": 33,
     "metadata": {},
     "output_type": "execute_result"
    }
   ],
   "source": [
    "## pair of independent variables with correlation greater than 0.5\n",
    "k = X.corr()\n",
    "z = [[str(i),str(j)] for i in k.columns for j in k.columns if (k.loc[i,j] >abs(0.5))&(i!=j)]\n",
    "z, len(z)"
   ]
  },
  {
   "cell_type": "code",
   "execution_count": 34,
   "id": "0ba808f0",
   "metadata": {},
   "outputs": [
    {
     "data": {
      "text/plain": [
       "House Age                                   1.022479\n",
       "Distance from nearest Metro station (km)    4.308998\n",
       "Number of convenience stores                1.617328\n",
       "latitude                                    1.602561\n",
       "longitude                                   2.926037\n",
       "Number of bedrooms                          2.326443\n",
       "House size (sqft)                           2.338321\n",
       "dtype: float64"
      ]
     },
     "execution_count": 34,
     "metadata": {},
     "output_type": "execute_result"
    }
   ],
   "source": [
    "# Importing Variance_inflation_Factor funtion from the Statsmodels\n",
    "from statsmodels.stats.outliers_influence import variance_inflation_factor\n",
    "\n",
    "vif_data = X[:]\n",
    "\n",
    "## Calculating VIF for every column\n",
    "VIF = pd.Series([variance_inflation_factor(vif_data.values, i) for i in range(vif_data.shape[1])], index = vif_data.columns)\n",
    "VIF"
   ]
  },
  {
   "cell_type": "code",
   "execution_count": 35,
   "id": "759a0085",
   "metadata": {},
   "outputs": [],
   "source": [
    "X = vif_data[:]"
   ]
  },
  {
   "cell_type": "code",
   "execution_count": 36,
   "id": "6716ab63",
   "metadata": {},
   "outputs": [],
   "source": [
    "Y = data['House price of unit area']"
   ]
  },
  {
   "cell_type": "markdown",
   "id": "4d76ddcd",
   "metadata": {},
   "source": [
    "# Splitting the data into train set and the test set"
   ]
  },
  {
   "cell_type": "code",
   "execution_count": 37,
   "id": "a02989bf",
   "metadata": {},
   "outputs": [
    {
     "data": {
      "text/plain": [
       "((289, 7), (125, 7), (289,), (125,))"
      ]
     },
     "execution_count": 37,
     "metadata": {},
     "output_type": "execute_result"
    }
   ],
   "source": [
    "from sklearn.model_selection import train_test_split\n",
    "x_train, x_test, y_train, y_test = train_test_split(X, Y, test_size = 0.3, random_state = 101)\n",
    "\n",
    "x_train.shape, x_test.shape, y_train.shape, y_test.shape"
   ]
  },
  {
   "cell_type": "markdown",
   "id": "27050fe7",
   "metadata": {},
   "source": [
    "# Mode Building "
   ]
  },
  {
   "cell_type": "markdown",
   "id": "bda129d7",
   "metadata": {},
   "source": [
    "# 1. Linear Regression"
   ]
  },
  {
   "cell_type": "markdown",
   "id": "b76d8f70",
   "metadata": {},
   "source": [
    "* **Linear Regression** model's main aim is to find the best fit linear line and the optimal values of intercept and coefficients such that the error is minimized.\n",
    "* Error is the difference between the **actual value** and **predicted value** and the goal is to reduce this difference."
   ]
  },
  {
   "cell_type": "code",
   "execution_count": 38,
   "id": "6228caa8",
   "metadata": {},
   "outputs": [
    {
     "data": {
      "text/plain": [
       "LinearRegression(normalize=True)"
      ]
     },
     "execution_count": 38,
     "metadata": {},
     "output_type": "execute_result"
    }
   ],
   "source": [
    "from sklearn.linear_model import LinearRegression\n",
    "from sklearn.metrics import mean_squared_error\n",
    "\n",
    "lr = LinearRegression(normalize = True)\n",
    "lr.fit(x_train, y_train)"
   ]
  },
  {
   "cell_type": "code",
   "execution_count": 39,
   "id": "4da4ea05",
   "metadata": {},
   "outputs": [
    {
     "data": {
      "text/plain": [
       "array([-3.10087255, -4.45085177,  3.89089977,  3.04997689,  0.94022696,\n",
       "       -0.21537689,  0.18325861])"
      ]
     },
     "execution_count": 39,
     "metadata": {},
     "output_type": "execute_result"
    }
   ],
   "source": [
    "# Multiple linear regression is used to estimate the relationship between two or more independent variables and one dependent\n",
    "# variable.\n",
    "lr.coef_"
   ]
  },
  {
   "cell_type": "code",
   "execution_count": 40,
   "id": "2381c86a",
   "metadata": {},
   "outputs": [],
   "source": [
    "predictions = lr.predict(x_test)"
   ]
  },
  {
   "cell_type": "code",
   "execution_count": 41,
   "id": "2cded99c",
   "metadata": {},
   "outputs": [
    {
     "name": "stdout",
     "output_type": "stream",
     "text": [
      "The Root Mean Squared Error for Linear Regression is: 7.0374904126359334\n",
      "Linear Regression Score is: 62.5867581568885 %\n"
     ]
    }
   ],
   "source": [
    "rmse_lin_reg = np.sqrt(mean_squared_error(y_test, predictions))\n",
    "print(\"The Root Mean Squared Error for Linear Regression is:\", rmse_lin_reg)\n",
    "print(\"Linear Regression Score is:\", lr.score(x_test, y_test) * 100, \"%\")"
   ]
  },
  {
   "cell_type": "code",
   "execution_count": null,
   "id": "b9c41f60",
   "metadata": {},
   "outputs": [],
   "source": []
  },
  {
   "cell_type": "markdown",
   "id": "e75f17f3",
   "metadata": {},
   "source": [
    "# 2. Ridge Regression"
   ]
  },
  {
   "cell_type": "markdown",
   "id": "131c6c7b",
   "metadata": {},
   "source": [
    "* **Ridge Regression** (also called Tikhonov regularization) is a regularized version of Linear Regression: a regularization    term equal to αΣi = 1n θi2 is added to the cost function.\n",
    "* This forces the learning algorithm to not only fit the data but also keep the model weights as small as possible."
   ]
  },
  {
   "cell_type": "code",
   "execution_count": 42,
   "id": "233e9221",
   "metadata": {},
   "outputs": [
    {
     "name": "stdout",
     "output_type": "stream",
     "text": [
      "The Root Mean Squared Error for Ridge Regression is: 7.0519057237890586\n",
      "Ridge Regression Score is: 62.433329631939436 %\n"
     ]
    }
   ],
   "source": [
    "from sklearn.linear_model import Ridge\n",
    "from sklearn.model_selection import GridSearchCV\n",
    "\n",
    "# What is GridSearchCV ?\n",
    "# It is a library function that helps you loop through pre-defined hyperparameters and fits your model with the best ones.\n",
    "\n",
    "# Advantage\n",
    "# GridSearchCV tries all the combinations of the values passed in the dictionary and evaluates the model for each combination\n",
    "# using the Cross-Validation method.\n",
    "\n",
    "\n",
    "# Ridge Regression\n",
    "# Ridge regression is a model tuning method that is used to analyse any data that suffers from multicollinearity.\n",
    "\n",
    "\n",
    "ridge = Ridge()\n",
    "param_grid = {'alpha': [0.001, 0.01, 0.02, 0.03, 0.04, 0.05, 0.06, 0.07, 0.08, 1, 2, 3, 5, 8, 10, 20, 50, 100]}\n",
    "grid_search_ridge = GridSearchCV(ridge, param_grid, cv = 5)\n",
    "grid_search_ridge.fit(x_train, y_train)\n",
    "y_prediction = grid_search_ridge.predict(x_test)\n",
    "rmse_ridge_reg = np.sqrt(mean_squared_error(y_test, y_prediction))\n",
    "print(\"The Root Mean Squared Error for Ridge Regression is:\", rmse_ridge_reg)\n",
    "print(\"Ridge Regression Score is:\", grid_search_ridge.score(x_test, y_test) * 100, \"%\")"
   ]
  },
  {
   "cell_type": "markdown",
   "id": "c229a4cc",
   "metadata": {},
   "source": [
    "# 3. Lasso Regression "
   ]
  },
  {
   "cell_type": "markdown",
   "id": "b16c4b89",
   "metadata": {},
   "source": [
    "* **Least Absolute Shrinkage and Selection Operator Regression** (simply called Lasso Regression) is another regularized version of Linear Regression: just like Ridge Regression, **it adds a regularization term to the cost function**, but it uses the ℓ1 norm of the weight vector instead of half the square of the ℓ2 norm.\n",
    "\n",
    "* It is a regression analysis method that performs both variable selection and regularization in order to enhance the **prediction accuracy** and **interpretability** of the resulting statistical model."
   ]
  },
  {
   "cell_type": "code",
   "execution_count": 43,
   "id": "727c6568",
   "metadata": {},
   "outputs": [
    {
     "name": "stdout",
     "output_type": "stream",
     "text": [
      "The Root Mean Squared Error for Lasso Regression is: 7.0519057237890586\n",
      "Lasso Regression Score is: 63.00942262984124 %\n"
     ]
    }
   ],
   "source": [
    "from sklearn.linear_model import Lasso\n",
    "\n",
    "lasso = Lasso()\n",
    "param_grid = {'alpha': [0.001, 0.01, 0.02, 0.03, 0.04, 0.05, 0.06, 0.07, 0.08, 1, 2, 3, 5, 8, 10, 20, 50, 100]}\n",
    "grid_search_las = GridSearchCV(lasso, param_grid, cv = 5)\n",
    "grid_search_las.fit(x_train, y_train)\n",
    "y_preddiction = grid_search_las.predict(x_test)\n",
    "rmse_las_reg = np.sqrt(mean_squared_error(y_test, y_prediction))\n",
    "print(\"The Root Mean Squared Error for Lasso Regression is:\", rmse_las_reg)\n",
    "print(\"Lasso Regression Score is:\", grid_search_las.score(x_test, y_test) * 100, \"%\")"
   ]
  },
  {
   "cell_type": "markdown",
   "id": "7d2440ca",
   "metadata": {},
   "source": [
    "# 4. Elastic Net"
   ]
  },
  {
   "cell_type": "markdown",
   "id": "efb355a3",
   "metadata": {},
   "source": [
    "* **Elastic Net** is a middle ground between Ridge Regression and Lasso Regression. The regularization term is a simple mix of both Ridge and Lasso’s regularization terms, and you can control the mix ratio r. When r = 0, Elastic Net is equivalent to Ridge Regression, and when r = 1, it is equivalent to Lasso Regression. Elastic net is a penalized linear regression model that includes both the L1 and L2 penalties during training."
   ]
  },
  {
   "cell_type": "code",
   "execution_count": 44,
   "id": "3cb70fe5",
   "metadata": {},
   "outputs": [
    {
     "name": "stdout",
     "output_type": "stream",
     "text": [
      "The Root Mean Squared Error for Elastic Net is: 7.0220057284526955\n",
      "Elastic Net Score is: 62.75121873702511 %\n"
     ]
    }
   ],
   "source": [
    "from sklearn.linear_model import ElasticNet\n",
    "\n",
    "el_net = ElasticNet()\n",
    "param_grid = {'alpha': [0.001, 0.01, 0.02, 0.03, 0.04, 0.05, 0.06, 0.07, 0.08, 1, 2, 3, 5, 8, 10, 20, 50, 100],\n",
    "             'l1_ratio': np.arange(0.0, 1.0, 0.1)}\n",
    "grid_search_el_net = GridSearchCV(el_net, param_grid, cv = 5)\n",
    "grid_search_el_net.fit(x_train, y_train)\n",
    "y_prediction = grid_search_el_net.predict(x_test)\n",
    "rmse_el_net = np.sqrt(mean_squared_error(y_test, y_prediction))\n",
    "print(\"The Root Mean Squared Error for Elastic Net is:\", rmse_el_net)\n",
    "print(\"Elastic Net Score is:\", grid_search_el_net.score(x_test, y_test) * 100, \"%\")"
   ]
  },
  {
   "cell_type": "markdown",
   "id": "5a2dd6b6",
   "metadata": {},
   "source": [
    "# 5. Support Vector Regression"
   ]
  },
  {
   "cell_type": "markdown",
   "id": "ca308f85",
   "metadata": {},
   "source": [
    "* **Support vector regression** is a supervised machine learning algorithm. The basic idea behind SVR is to find the best fit line.It gives us the flexibility to define how much error is acceptable in our model and will find an appropriate line ( or hyperplane in higher dimensions) to fit the data."
   ]
  },
  {
   "cell_type": "code",
   "execution_count": 45,
   "id": "476bcef7",
   "metadata": {},
   "outputs": [
    {
     "name": "stdout",
     "output_type": "stream",
     "text": [
      "The Root Mean Squared Error for Support Vector Regressor is: 5.940301031354078\n",
      "SVR Score is: 73.34328574270373 %\n"
     ]
    }
   ],
   "source": [
    "from sklearn.svm import SVR\n",
    "\n",
    "svr = SVR()\n",
    "param_grid = {'kernel': ['linear', 'poly', 'rbf', 'sigmoid'], \n",
    "              'gamma': ['scale', 'auto'],\n",
    "              'C': [1, 10, 100],\n",
    "              'epsilon': [0.01, 0.1, 1, 10]}\n",
    "grid_search_svr = GridSearchCV(svr, param_grid, cv = 5)\n",
    "grid_search_svr.fit(x_train, y_train)\n",
    "y_prediction = grid_search_svr.predict(x_test)\n",
    "rmse_svr = np.sqrt(mean_squared_error(y_test, y_prediction))\n",
    "print(\"The Root Mean Squared Error for Support Vector Regressor is:\", rmse_svr)\n",
    "print(\"SVR Score is:\", grid_search_svr.score(x_test, y_test) * 100, \"%\")"
   ]
  },
  {
   "cell_type": "markdown",
   "id": "c8a9bb25",
   "metadata": {},
   "source": [
    "# 6. Decision Tree Regression"
   ]
  },
  {
   "cell_type": "markdown",
   "id": "def0d57c",
   "metadata": {},
   "source": [
    "* **Decision Tree Regression** is a supervised machine learning algorithm. It breaks down a dataset into smaller and smaller subsets while at the same time an associated decision tree is incrementally developed. The final result is a tree with decision nodes and leaf nodes. \n",
    "* **Decision trees regressors** normally use mean squared error (MSE) to decide to split a node in two or more sub-nodes."
   ]
  },
  {
   "cell_type": "code",
   "execution_count": 46,
   "id": "c5537cd2",
   "metadata": {},
   "outputs": [
    {
     "name": "stdout",
     "output_type": "stream",
     "text": [
      "The Root Mean Squared Error for Decision Tree Regressor is: 6.1132377915897695\n",
      "DTR score is: 71.76860832767764 %\n",
      "The best parameters of the decision tree regressor are:\n",
      "{'max_depth': 4, 'max_leaf_nodes': 13, 'min_samples_leaf': 5, 'splitter': 'best'}\n"
     ]
    }
   ],
   "source": [
    "from sklearn.tree import DecisionTreeRegressor\n",
    "\n",
    "dtr = DecisionTreeRegressor(random_state = 0)\n",
    "param_grid = {'max_depth': list(range(2, 10)),\n",
    "              'splitter': ['best', 'random'],\n",
    "              'min_samples_leaf': list(range(1, 10)),\n",
    "              'max_leaf_nodes': list(range(5, 20))}\n",
    "grid_search_dtr = GridSearchCV(dtr, param_grid, cv = 5)\n",
    "grid_search_dtr.fit(x_train, y_train)\n",
    "y_prediction = grid_search_dtr.predict(x_test)\n",
    "rmse_dtr = np.sqrt(mean_squared_error(y_test, y_prediction))\n",
    "print(\"The Root Mean Squared Error for Decision Tree Regressor is:\", rmse_dtr)\n",
    "print(\"DTR score is:\", grid_search_dtr.score(x_test, y_test) * 100, \"%\")\n",
    "print(\"The best parameters of the decision tree regressor are:\")\n",
    "print(grid_search_dtr.best_params_)"
   ]
  },
  {
   "cell_type": "markdown",
   "id": "bc815ce1",
   "metadata": {},
   "source": [
    "# 7. Random Forest Regressor"
   ]
  },
  {
   "cell_type": "markdown",
   "id": "ff03640c",
   "metadata": {},
   "source": [
    "* **Random Forest Regressor** algorithm combines ensemble learning methods with the decision tree framework to create multiple  randomly drawn  decision trees from the data, averaging the results to output a new result that often leads to strong predictions."
   ]
  },
  {
   "cell_type": "code",
   "execution_count": 47,
   "id": "8d433f9a",
   "metadata": {},
   "outputs": [
    {
     "name": "stdout",
     "output_type": "stream",
     "text": [
      "The Root Mean Squared Error is: 5.595585925692195\n",
      "RFR Score is: 76.34729326206642 %\n"
     ]
    }
   ],
   "source": [
    "from sklearn.ensemble import RandomForestRegressor\n",
    "\n",
    "rfr = RandomForestRegressor()\n",
    "param_grid = {'n_estimators': list(range(100, 200, 10)),\n",
    "             'max_depth': list(range(4, 7)),\n",
    "             'min_samples_split': list(range(2, 4))}\n",
    "grid_search_rfr = GridSearchCV(rfr, param_grid, cv = 5)\n",
    "grid_search_rfr.fit(x_train, y_train)\n",
    "y_prediction = grid_search_rfr.predict(x_test)\n",
    "rmse_rfr_grid = np.sqrt(mean_squared_error(y_test, y_prediction))\n",
    "print(\"The Root Mean Squared Error is:\", rmse_rfr_grid)\n",
    "print(\"RFR Score is:\", grid_search_rfr.score(x_test, y_test) * 100, \"%\")"
   ]
  },
  {
   "cell_type": "markdown",
   "id": "8f8a6227",
   "metadata": {},
   "source": [
    "# 8. AdaBoost Regressor"
   ]
  },
  {
   "cell_type": "markdown",
   "id": "2f0ba6b3",
   "metadata": {},
   "source": [
    " * **AdaBoost regressor** is a meta-estimator that begins by fitting a regressor on the original dataset and then fits additional copies of the regressor on the same dataset but where the weights of instances are adjusted according to the error of the current prediction. As such, subsequent regressors focus more on difficult cases."
   ]
  },
  {
   "cell_type": "code",
   "execution_count": 48,
   "id": "1ee06ab5",
   "metadata": {},
   "outputs": [
    {
     "name": "stdout",
     "output_type": "stream",
     "text": [
      "The Root Mean Squared Error is: 5.764191288855159\n",
      "ABR Score is: 74.90041861086816 %\n"
     ]
    }
   ],
   "source": [
    "from sklearn.ensemble import AdaBoostRegressor\n",
    "\n",
    "abr = AdaBoostRegressor(random_state = 0)\n",
    "param_grid = {'n_estimators': list(range(100, 1000, 100)),\n",
    "             'learning_rate': [0.001, 0.01, 0.1, 1, 10]}\n",
    "grid_search_abr = GridSearchCV(abr, param_grid, cv = 5)\n",
    "grid_search_abr.fit(x_train, y_train)\n",
    "y_prediction = grid_search_abr.predict(x_test)\n",
    "rmse_abr_grid = np.sqrt(mean_squared_error(y_test, y_prediction))\n",
    "print(\"The Root Mean Squared Error is:\", rmse_abr_grid)\n",
    "print(\"ABR Score is:\", grid_search_abr.score(x_test, y_test) * 100, \"%\")"
   ]
  },
  {
   "cell_type": "markdown",
   "id": "13eea46c",
   "metadata": {},
   "source": [
    "# 9. XGBRegressor"
   ]
  },
  {
   "cell_type": "markdown",
   "id": "1df5d7e1",
   "metadata": {},
   "source": [
    "* **XGBBoost Regressor** is a decision-tree-based ensemble Machine Learning algorithm that uses a gradient boosting framework. It is a powerful approch for building supervised regression models. The validity of this statement can be inferred by knowing about its(XGBoost) objective function and base learners. The objective function contains loss function and a regularization term. It tells about the differenc between actual values and predicted values, i.e how far the model results are from the real values. "
   ]
  },
  {
   "cell_type": "code",
   "execution_count": 49,
   "id": "a397c63d",
   "metadata": {},
   "outputs": [
    {
     "name": "stdout",
     "output_type": "stream",
     "text": [
      "The Root Mean Squared Error is: 5.9379549348046625\n",
      "XGB Score is: 73.36433749587502 %\n"
     ]
    }
   ],
   "source": [
    "from xgboost import XGBRegressor\n",
    "\n",
    "xgb = XGBRegressor()\n",
    "param_grid = {'n_estimators': list(range(500, 1000, 100)),\n",
    "             'learning_rate': [0.001, 0.01, 0.1]}\n",
    "grid_search_xgb = GridSearchCV(xgb, param_grid, cv = 5)\n",
    "grid_search_xgb.fit(x_train, y_train)\n",
    "y_prediction = grid_search_xgb.predict(x_test)\n",
    "rmse_xgb_grid = np.sqrt(mean_squared_error(y_test, y_prediction))\n",
    "print(\"The Root Mean Squared Error is:\", rmse_xgb_grid)\n",
    "print(\"XGB Score is:\", grid_search_xgb.score(x_test, y_test) * 100, \"%\")"
   ]
  },
  {
   "cell_type": "markdown",
   "id": "be777b10",
   "metadata": {},
   "source": [
    "# Representation of Model performance"
   ]
  },
  {
   "cell_type": "code",
   "execution_count": 50,
   "id": "3046184c",
   "metadata": {},
   "outputs": [
    {
     "data": {
      "image/png": "[encoded data removed]",
      "text/plain": [
       "<Figure size 2160x720 with 1 Axes>"
      ]
     },
     "metadata": {
      "needs_background": "light"
     },
     "output_type": "display_data"
    }
   ],
   "source": [
    "data = {'Linear Regression': rmse_lin_reg, 'Ridge Regression': rmse_ridge_reg, 'Lasso Regression': rmse_las_reg, 'Elastic Net': rmse_el_net,\n",
    "        'Support Vector Regressor': rmse_svr, 'Decision Tree Regressor': rmse_dtr, 'Random Forest Regressor': rmse_rfr_grid,\n",
    "        'Ada Boost Regressor': rmse_abr_grid, 'XGBoost Regressor': rmse_xgb_grid}\n",
    "data = dict(sorted(data.items(), key = lambda x: x[1], reverse = True))\n",
    "models = list(data.keys())\n",
    "RMSE = list(data.values())\n",
    "fig = plt.figure(figsize = (30, 10))\n",
    "sns.barplot(x = models, y = RMSE)\n",
    "plt.xlabel(\"Models Used\", size = 40)\n",
    "plt.xticks(rotation = 30, size = 25)\n",
    "plt.ylabel(\"RMSE\", size = 30)\n",
    "plt.yticks(size = 20)\n",
    "plt.title(\"RMSE for different models\", size = 25)\n",
    "plt.show()"
   ]
  },
  {
   "cell_type": "markdown",
   "id": "04415da8",
   "metadata": {},
   "source": [
    "* In this housing price we try different models to check which model has less **Root Mean Squared Error**, From all of this model's **Random Forest Regressor** has less RMSE and it gives approx **76% score**,therefore **Random Forest Regressor** Model is best fit for this housing price model."
   ]
  },
  {
   "cell_type": "markdown",
   "id": "a75ad819",
   "metadata": {},
   "source": [
    "# Model Coefficients "
   ]
  },
  {
   "cell_type": "code",
   "execution_count": 52,
   "id": "844813c8",
   "metadata": {},
   "outputs": [],
   "source": [
    "coefficients_table = pd.DataFrame({'column': x_train.columns,\n",
    "                                  'coefficients': lr.coef_})\n",
    "coefficient_table = coefficients_table.sort_values(by = 'coefficients')\n"
   ]
  },
  {
   "cell_type": "code",
   "execution_count": 53,
   "id": "56f51152",
   "metadata": {},
   "outputs": [
    {
     "data": {
      "image/png": "[encoded data removed]",
      "text/plain": [
       "<Figure size 960x720 with 1 Axes>"
      ]
     },
     "metadata": {
      "needs_background": "light"
     },
     "output_type": "display_data"
    }
   ],
   "source": [
    "coefficients_table = pd.DataFrame({'column': x_train.columns,\n",
    "                                  'coefficients': lr.coef_})\n",
    "coefficient_table = coefficients_table.sort_values(by = 'coefficients')\n",
    "plt.figure(figsize=(8, 6), dpi=120)\n",
    "x = coefficient_table['column']\n",
    "y = coefficient_table['coefficients']\n",
    "plt.barh( x, y)\n",
    "plt.xlabel( \"Coefficients\")\n",
    "plt.ylabel('Variables')\n",
    "plt.title('Normalized Coefficient plot')\n",
    "plt.show()"
   ]
  },
  {
   "cell_type": "markdown",
   "id": "e4844a5d",
   "metadata": {},
   "source": [
    "# Conclusion"
   ]
  },
  {
   "cell_type": "markdown",
   "id": "addbbd5b",
   "metadata": {},
   "source": [
    "* conclusion:\n",
    "     * From this Housing Data Model we conclude that if the House is far away from the Metro station and the House age is old then the price of house is decrease. If the Number of convenience stores are high then the price of house is increase."
   ]
  }
 ],
 "metadata": {
  "kernelspec": {
   "display_name": "Python 3",
   "language": "python",
   "name": "python3"
  },
  "language_info": {
   "codemirror_mode": {
    "name": "ipython",
    "version": 3
   },
   "file_extension": ".py",
   "mimetype": "text/x-python",
   "name": "python",
   "nbconvert_exporter": "python",
   "pygments_lexer": "ipython3",
   "version": "3.8.8"
  }
 },
 "nbformat": 4,
 "nbformat_minor": 5
}
